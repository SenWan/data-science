{
 "cells": [
  {
   "cell_type": "code",
   "execution_count": 1,
   "metadata": {},
   "outputs": [],
   "source": [
    "import numpy as np"
   ]
  },
  {
   "cell_type": "code",
   "execution_count": 3,
   "metadata": {},
   "outputs": [],
   "source": [
    "a = np.zeros((3,3,3))"
   ]
  },
  {
   "cell_type": "code",
   "execution_count": 4,
   "metadata": {},
   "outputs": [
    {
     "data": {
      "text/plain": [
       "array([[[0., 0., 0.],\n",
       "        [0., 0., 0.],\n",
       "        [0., 0., 0.]],\n",
       "\n",
       "       [[0., 0., 0.],\n",
       "        [0., 0., 0.],\n",
       "        [0., 0., 0.]],\n",
       "\n",
       "       [[0., 0., 0.],\n",
       "        [0., 0., 0.],\n",
       "        [0., 0., 0.]]])"
      ]
     },
     "execution_count": 4,
     "metadata": {},
     "output_type": "execute_result"
    }
   ],
   "source": [
    "a"
   ]
  },
  {
   "cell_type": "code",
   "execution_count": 5,
   "metadata": {},
   "outputs": [
    {
     "data": {
      "text/plain": [
       "array([[[1., 1., 1., 1.],\n",
       "        [1., 1., 1., 1.]],\n",
       "\n",
       "       [[1., 1., 1., 1.],\n",
       "        [1., 1., 1., 1.]]])"
      ]
     },
     "execution_count": 5,
     "metadata": {},
     "output_type": "execute_result"
    }
   ],
   "source": [
    "np.ones((2,2,4))"
   ]
  },
  {
   "cell_type": "code",
   "execution_count": 7,
   "metadata": {
    "scrolled": true
   },
   "outputs": [
    {
     "data": {
      "text/plain": [
       "array([[[1, 1, 1, 1],\n",
       "        [1, 1, 1, 1]],\n",
       "\n",
       "       [[1, 1, 1, 1],\n",
       "        [1, 1, 1, 1]]])"
      ]
     },
     "execution_count": 7,
     "metadata": {},
     "output_type": "execute_result"
    }
   ],
   "source": [
    "np.ones((2,2,4), dtype=int)"
   ]
  },
  {
   "cell_type": "code",
   "execution_count": null,
   "metadata": {},
   "outputs": [],
   "source": [
    "np.full((2,2), 'hello', dtype=\"<U7"
   ]
  },
  {
   "cell_type": "code",
   "execution_count": 9,
   "metadata": {},
   "outputs": [
    {
     "data": {
      "text/plain": [
       "array([['hello', 'hello'],\n",
       "       ['hello', 'hello']], dtype='<U7')"
      ]
     },
     "execution_count": 9,
     "metadata": {},
     "output_type": "execute_result"
    }
   ],
   "source": [
    "\")"
   ]
  },
  {
   "cell_type": "code",
   "execution_count": 10,
   "metadata": {},
   "outputs": [
    {
     "data": {
      "text/plain": [
       "array([0.50448055, 0.69243339, 0.81188143, 0.21678396, 0.09663211,\n",
       "       0.2451018 , 0.30642478, 0.14087956, 0.66805675, 0.46736756])"
      ]
     },
     "execution_count": 10,
     "metadata": {},
     "output_type": "execute_result"
    }
   ],
   "source": [
    "np.random.rand(10)"
   ]
  },
  {
   "cell_type": "code",
   "execution_count": 12,
   "metadata": {},
   "outputs": [],
   "source": [
    "data = np.random.randint(5,10,(10,10))"
   ]
  },
  {
   "cell_type": "code",
   "execution_count": 13,
   "metadata": {},
   "outputs": [
    {
     "data": {
      "text/plain": [
       "array([[9, 5, 6, 7, 9, 9, 6, 6, 9, 5],\n",
       "       [9, 7, 9, 9, 6, 5, 9, 8, 7, 9],\n",
       "       [9, 6, 6, 6, 5, 7, 8, 5, 5, 6],\n",
       "       [8, 7, 9, 8, 5, 6, 9, 8, 9, 6],\n",
       "       [5, 6, 7, 8, 8, 5, 7, 7, 6, 9],\n",
       "       [8, 9, 7, 5, 7, 7, 5, 8, 5, 8],\n",
       "       [9, 7, 8, 5, 6, 7, 5, 5, 8, 5],\n",
       "       [8, 8, 5, 9, 5, 6, 5, 9, 7, 7],\n",
       "       [9, 6, 8, 6, 7, 6, 9, 8, 9, 7],\n",
       "       [6, 7, 8, 7, 5, 7, 5, 7, 5, 8]])"
      ]
     },
     "execution_count": 13,
     "metadata": {},
     "output_type": "execute_result"
    }
   ],
   "source": [
    "data\n",
    "\n",
    "Acccess of Numpy"
   ]
  },
  {
   "cell_type": "markdown",
   "metadata": {},
   "source": [
    "# Access of numpy"
   ]
  },
  {
   "cell_type": "code",
   "execution_count": 15,
   "metadata": {},
   "outputs": [
    {
     "data": {
      "text/plain": [
       "array([[5, 6, 7, 8, 8, 5, 7, 7, 6, 9],\n",
       "       [8, 9, 7, 5, 7, 7, 5, 8, 5, 8],\n",
       "       [9, 7, 8, 5, 6, 7, 5, 5, 8, 5],\n",
       "       [8, 8, 5, 9, 5, 6, 5, 9, 7, 7]])"
      ]
     },
     "execution_count": 15,
     "metadata": {},
     "output_type": "execute_result"
    }
   ],
   "source": [
    "data[4:8]"
   ]
  },
  {
   "cell_type": "code",
   "execution_count": 16,
   "metadata": {},
   "outputs": [
    {
     "data": {
      "text/plain": [
       "array([[8, 5],\n",
       "       [7, 7],\n",
       "       [6, 7],\n",
       "       [5, 6]])"
      ]
     },
     "execution_count": 16,
     "metadata": {},
     "output_type": "execute_result"
    }
   ],
   "source": [
    "data[4:8, 4:6]"
   ]
  },
  {
   "cell_type": "code",
   "execution_count": 17,
   "metadata": {},
   "outputs": [
    {
     "data": {
      "text/plain": [
       "array([[8, 5],\n",
       "       [7, 7]])"
      ]
     },
     "execution_count": 17,
     "metadata": {},
     "output_type": "execute_result"
    }
   ],
   "source": [
    "data[4:6, 4:6]"
   ]
  },
  {
   "cell_type": "markdown",
   "metadata": {},
   "source": [
    "# Combine Data"
   ]
  },
  {
   "cell_type": "code",
   "execution_count": 18,
   "metadata": {},
   "outputs": [],
   "source": [
    "data1 = np.random.randint(5,15, size=(5,3))"
   ]
  },
  {
   "cell_type": "code",
   "execution_count": 19,
   "metadata": {},
   "outputs": [],
   "source": [
    "data2 = np.random.randint(5,15, size=(5,3))"
   ]
  },
  {
   "cell_type": "code",
   "execution_count": 20,
   "metadata": {},
   "outputs": [
    {
     "data": {
      "text/plain": [
       "array([[ 6, 10,  7, 14, 14, 13],\n",
       "       [ 7, 11,  5,  5,  8,  9],\n",
       "       [12, 11, 12, 11, 12, 11],\n",
       "       [14,  5, 14,  7,  9,  7],\n",
       "       [ 6, 12,  5,  6,  6,  5]])"
      ]
     },
     "execution_count": 20,
     "metadata": {},
     "output_type": "execute_result"
    }
   ],
   "source": [
    "np.hstack([data1, data2])"
   ]
  },
  {
   "cell_type": "code",
   "execution_count": 21,
   "metadata": {},
   "outputs": [
    {
     "data": {
      "text/plain": [
       "array([[ 6, 10,  7],\n",
       "       [ 7, 11,  5],\n",
       "       [12, 11, 12],\n",
       "       [14,  5, 14],\n",
       "       [ 6, 12,  5],\n",
       "       [14, 14, 13],\n",
       "       [ 5,  8,  9],\n",
       "       [11, 12, 11],\n",
       "       [ 7,  9,  7],\n",
       "       [ 6,  6,  5]])"
      ]
     },
     "execution_count": 21,
     "metadata": {},
     "output_type": "execute_result"
    }
   ],
   "source": [
    "np.vstack([data1, data2])"
   ]
  },
  {
   "cell_type": "code",
   "execution_count": 22,
   "metadata": {},
   "outputs": [
    {
     "data": {
      "text/plain": [
       "array([[ 6, 10,  7, 14, 14, 13],\n",
       "       [ 7, 11,  5,  5,  8,  9],\n",
       "       [12, 11, 12, 11, 12, 11],\n",
       "       [14,  5, 14,  7,  9,  7],\n",
       "       [ 6, 12,  5,  6,  6,  5]])"
      ]
     },
     "execution_count": 22,
     "metadata": {},
     "output_type": "execute_result"
    }
   ],
   "source": [
    "np.concatenate([data1, data2], axis=1)"
   ]
  },
  {
   "cell_type": "code",
   "execution_count": 23,
   "metadata": {},
   "outputs": [
    {
     "ename": "AxisError",
     "evalue": "axis 2 is out of bounds for array of dimension 2",
     "output_type": "error",
     "traceback": [
      "\u001b[1;31m---------------------------------------------------------------------------\u001b[0m",
      "\u001b[1;31mAxisError\u001b[0m                                 Traceback (most recent call last)",
      "\u001b[1;32m<ipython-input-23-7c2a2a96e69e>\u001b[0m in \u001b[0;36m<module>\u001b[1;34m\u001b[0m\n\u001b[1;32m----> 1\u001b[1;33m \u001b[0mnp\u001b[0m\u001b[1;33m.\u001b[0m\u001b[0mconcatenate\u001b[0m\u001b[1;33m(\u001b[0m\u001b[1;33m[\u001b[0m\u001b[0mdata1\u001b[0m\u001b[1;33m,\u001b[0m \u001b[0mdata2\u001b[0m\u001b[1;33m]\u001b[0m\u001b[1;33m,\u001b[0m \u001b[0maxis\u001b[0m\u001b[1;33m=\u001b[0m\u001b[1;36m2\u001b[0m\u001b[1;33m)\u001b[0m\u001b[1;33m\u001b[0m\u001b[1;33m\u001b[0m\u001b[0m\n\u001b[0m",
      "\u001b[1;32m<__array_function__ internals>\u001b[0m in \u001b[0;36mconcatenate\u001b[1;34m(*args, **kwargs)\u001b[0m\n",
      "\u001b[1;31mAxisError\u001b[0m: axis 2 is out of bounds for array of dimension 2"
     ]
    }
   ],
   "source": [
    "np.concatenate([data1, data2], axis=2)"
   ]
  },
  {
   "cell_type": "code",
   "execution_count": 26,
   "metadata": {},
   "outputs": [],
   "source": [
    "a1,a2 = np.hsplit(data,[5])"
   ]
  },
  {
   "cell_type": "code",
   "execution_count": 27,
   "metadata": {},
   "outputs": [
    {
     "data": {
      "text/plain": [
       "array([[9, 5, 6, 7, 9],\n",
       "       [9, 7, 9, 9, 6],\n",
       "       [9, 6, 6, 6, 5],\n",
       "       [8, 7, 9, 8, 5],\n",
       "       [5, 6, 7, 8, 8],\n",
       "       [8, 9, 7, 5, 7],\n",
       "       [9, 7, 8, 5, 6],\n",
       "       [8, 8, 5, 9, 5],\n",
       "       [9, 6, 8, 6, 7],\n",
       "       [6, 7, 8, 7, 5]])"
      ]
     },
     "execution_count": 27,
     "metadata": {},
     "output_type": "execute_result"
    }
   ],
   "source": [
    "a1"
   ]
  },
  {
   "cell_type": "markdown",
   "metadata": {},
   "source": [
    "# Shape Dimension"
   ]
  },
  {
   "cell_type": "code",
   "execution_count": 28,
   "metadata": {},
   "outputs": [
    {
     "data": {
      "text/plain": [
       "(10, 10)"
      ]
     },
     "execution_count": 28,
     "metadata": {},
     "output_type": "execute_result"
    }
   ],
   "source": [
    "data.shape"
   ]
  },
  {
   "cell_type": "code",
   "execution_count": 29,
   "metadata": {},
   "outputs": [
    {
     "data": {
      "text/plain": [
       "2"
      ]
     },
     "execution_count": 29,
     "metadata": {},
     "output_type": "execute_result"
    }
   ],
   "source": [
    "data.ndim"
   ]
  },
  {
   "cell_type": "code",
   "execution_count": 30,
   "metadata": {},
   "outputs": [
    {
     "data": {
      "text/plain": [
       "100"
      ]
     },
     "execution_count": 30,
     "metadata": {},
     "output_type": "execute_result"
    }
   ],
   "source": [
    "data.size"
   ]
  },
  {
   "cell_type": "code",
   "execution_count": 32,
   "metadata": {},
   "outputs": [
    {
     "data": {
      "text/plain": [
       "array([[9, 5, 6, 7, 9, 9, 6, 6, 9, 5, 9, 7, 9, 9, 6, 5, 9, 8, 7, 9, 9, 6,\n",
       "        6, 6, 5, 7, 8, 5, 5, 6, 8, 7, 9, 8, 5, 6, 9, 8, 9, 6, 5, 6, 7, 8,\n",
       "        8, 5, 7, 7, 6, 9],\n",
       "       [8, 9, 7, 5, 7, 7, 5, 8, 5, 8, 9, 7, 8, 5, 6, 7, 5, 5, 8, 5, 8, 8,\n",
       "        5, 9, 5, 6, 5, 9, 7, 7, 9, 6, 8, 6, 7, 6, 9, 8, 9, 7, 6, 7, 8, 7,\n",
       "        5, 7, 5, 7, 5, 8]])"
      ]
     },
     "execution_count": 32,
     "metadata": {},
     "output_type": "execute_result"
    }
   ],
   "source": [
    "data.reshape(2,50)"
   ]
  },
  {
   "cell_type": "code",
   "execution_count": 33,
   "metadata": {},
   "outputs": [],
   "source": [
    "d = np.array([1,2,3,4,5,6,7,8])"
   ]
  },
  {
   "cell_type": "code",
   "execution_count": 34,
   "metadata": {},
   "outputs": [
    {
     "data": {
      "text/plain": [
       "1"
      ]
     },
     "execution_count": 34,
     "metadata": {},
     "output_type": "execute_result"
    }
   ],
   "source": [
    "d.ndim"
   ]
  },
  {
   "cell_type": "code",
   "execution_count": 35,
   "metadata": {},
   "outputs": [
    {
     "data": {
      "text/plain": [
       "(8,)"
      ]
     },
     "execution_count": 35,
     "metadata": {},
     "output_type": "execute_result"
    }
   ],
   "source": [
    "d.shape"
   ]
  },
  {
   "cell_type": "code",
   "execution_count": 36,
   "metadata": {},
   "outputs": [
    {
     "data": {
      "text/plain": [
       "8"
      ]
     },
     "execution_count": 36,
     "metadata": {},
     "output_type": "execute_result"
    }
   ],
   "source": [
    "d.size"
   ]
  },
  {
   "cell_type": "code",
   "execution_count": 38,
   "metadata": {},
   "outputs": [
    {
     "data": {
      "text/plain": [
       "array([[1],\n",
       "       [2],\n",
       "       [3],\n",
       "       [4],\n",
       "       [5],\n",
       "       [6],\n",
       "       [7],\n",
       "       [8]])"
      ]
     },
     "execution_count": 38,
     "metadata": {},
     "output_type": "execute_result"
    }
   ],
   "source": [
    "d.reshape(8,1)"
   ]
  },
  {
   "cell_type": "markdown",
   "metadata": {},
   "source": [
    "# Utility Function"
   ]
  },
  {
   "cell_type": "code",
   "execution_count": 39,
   "metadata": {},
   "outputs": [
    {
     "data": {
      "text/plain": [
       "698"
      ]
     },
     "execution_count": 39,
     "metadata": {},
     "output_type": "execute_result"
    }
   ],
   "source": [
    "np.sum(data)"
   ]
  },
  {
   "cell_type": "code",
   "execution_count": 40,
   "metadata": {},
   "outputs": [
    {
     "data": {
      "text/plain": [
       "array([71, 78, 63, 75, 68, 69, 65, 69, 75, 65])"
      ]
     },
     "execution_count": 40,
     "metadata": {},
     "output_type": "execute_result"
    }
   ],
   "source": [
    "np.sum(data, axis=1)"
   ]
  },
  {
   "cell_type": "code",
   "execution_count": 41,
   "metadata": {},
   "outputs": [
    {
     "data": {
      "text/plain": [
       "array([[9, 5, 6, 7, 9, 9, 6, 6, 9, 5],\n",
       "       [9, 7, 9, 9, 6, 5, 9, 8, 7, 9],\n",
       "       [9, 6, 6, 6, 5, 7, 8, 5, 5, 6],\n",
       "       [8, 7, 9, 8, 5, 6, 9, 8, 9, 6],\n",
       "       [5, 6, 7, 8, 8, 5, 7, 7, 6, 9],\n",
       "       [8, 9, 7, 5, 7, 7, 5, 8, 5, 8],\n",
       "       [9, 7, 8, 5, 6, 7, 5, 5, 8, 5],\n",
       "       [8, 8, 5, 9, 5, 6, 5, 9, 7, 7],\n",
       "       [9, 6, 8, 6, 7, 6, 9, 8, 9, 7],\n",
       "       [6, 7, 8, 7, 5, 7, 5, 7, 5, 8]])"
      ]
     },
     "execution_count": 41,
     "metadata": {},
     "output_type": "execute_result"
    }
   ],
   "source": [
    "data"
   ]
  },
  {
   "cell_type": "code",
   "execution_count": 42,
   "metadata": {},
   "outputs": [
    {
     "data": {
      "text/plain": [
       "array([[ 0.41211849, -0.95892427, -0.2794155 ,  0.6569866 ,  0.41211849,\n",
       "         0.41211849, -0.2794155 , -0.2794155 ,  0.41211849, -0.95892427],\n",
       "       [ 0.41211849,  0.6569866 ,  0.41211849,  0.41211849, -0.2794155 ,\n",
       "        -0.95892427,  0.41211849,  0.98935825,  0.6569866 ,  0.41211849],\n",
       "       [ 0.41211849, -0.2794155 , -0.2794155 , -0.2794155 , -0.95892427,\n",
       "         0.6569866 ,  0.98935825, -0.95892427, -0.95892427, -0.2794155 ],\n",
       "       [ 0.98935825,  0.6569866 ,  0.41211849,  0.98935825, -0.95892427,\n",
       "        -0.2794155 ,  0.41211849,  0.98935825,  0.41211849, -0.2794155 ],\n",
       "       [-0.95892427, -0.2794155 ,  0.6569866 ,  0.98935825,  0.98935825,\n",
       "        -0.95892427,  0.6569866 ,  0.6569866 , -0.2794155 ,  0.41211849],\n",
       "       [ 0.98935825,  0.41211849,  0.6569866 , -0.95892427,  0.6569866 ,\n",
       "         0.6569866 , -0.95892427,  0.98935825, -0.95892427,  0.98935825],\n",
       "       [ 0.41211849,  0.6569866 ,  0.98935825, -0.95892427, -0.2794155 ,\n",
       "         0.6569866 , -0.95892427, -0.95892427,  0.98935825, -0.95892427],\n",
       "       [ 0.98935825,  0.98935825, -0.95892427,  0.41211849, -0.95892427,\n",
       "        -0.2794155 , -0.95892427,  0.41211849,  0.6569866 ,  0.6569866 ],\n",
       "       [ 0.41211849, -0.2794155 ,  0.98935825, -0.2794155 ,  0.6569866 ,\n",
       "        -0.2794155 ,  0.41211849,  0.98935825,  0.41211849,  0.6569866 ],\n",
       "       [-0.2794155 ,  0.6569866 ,  0.98935825,  0.6569866 , -0.95892427,\n",
       "         0.6569866 , -0.95892427,  0.6569866 , -0.95892427,  0.98935825]])"
      ]
     },
     "execution_count": 42,
     "metadata": {},
     "output_type": "execute_result"
    }
   ],
   "source": [
    "np.sin(data)"
   ]
  },
  {
   "cell_type": "code",
   "execution_count": 43,
   "metadata": {},
   "outputs": [
    {
     "data": {
      "text/plain": [
       "array([[9, 9, 9, 8, 5, 8, 9, 8, 9, 6],\n",
       "       [5, 7, 6, 7, 6, 9, 7, 8, 6, 7],\n",
       "       [6, 9, 6, 9, 7, 7, 8, 5, 8, 8],\n",
       "       [7, 9, 6, 8, 8, 5, 5, 9, 6, 7],\n",
       "       [9, 6, 5, 5, 8, 7, 6, 5, 7, 5],\n",
       "       [9, 5, 7, 6, 5, 7, 7, 6, 6, 7],\n",
       "       [6, 9, 8, 9, 7, 5, 5, 5, 9, 5],\n",
       "       [6, 8, 5, 8, 7, 8, 5, 9, 8, 7],\n",
       "       [9, 7, 5, 9, 6, 5, 8, 7, 9, 5],\n",
       "       [5, 9, 6, 6, 9, 8, 5, 7, 7, 8]])"
      ]
     },
     "execution_count": 43,
     "metadata": {},
     "output_type": "execute_result"
    }
   ],
   "source": [
    "data.T"
   ]
  },
  {
   "cell_type": "code",
   "execution_count": 44,
   "metadata": {},
   "outputs": [
    {
     "data": {
      "text/plain": [
       "array([7.1, 7.8, 6.3, 7.5, 6.8, 6.9, 6.5, 6.9, 7.5, 6.5])"
      ]
     },
     "execution_count": 44,
     "metadata": {},
     "output_type": "execute_result"
    }
   ],
   "source": [
    "data.mean(axis=1)"
   ]
  },
  {
   "cell_type": "code",
   "execution_count": 45,
   "metadata": {},
   "outputs": [
    {
     "data": {
      "text/plain": [
       "array([1.64012195, 1.4       , 1.26885775, 1.36014705, 1.2489996 ,\n",
       "       1.37477271, 1.43178211, 1.5132746 , 1.20415946, 1.11803399])"
      ]
     },
     "execution_count": 45,
     "metadata": {},
     "output_type": "execute_result"
    }
   ],
   "source": [
    "data.std(axis=1)"
   ]
  },
  {
   "cell_type": "markdown",
   "metadata": {},
   "source": [
    "# Broadcating"
   ]
  },
  {
   "cell_type": "code",
   "execution_count": 46,
   "metadata": {},
   "outputs": [],
   "source": [
    "v = np.array([1,3,4,5,6])"
   ]
  },
  {
   "cell_type": "code",
   "execution_count": 47,
   "metadata": {},
   "outputs": [],
   "source": [
    "s = 10"
   ]
  },
  {
   "cell_type": "code",
   "execution_count": 48,
   "metadata": {},
   "outputs": [
    {
     "data": {
      "text/plain": [
       "array([11, 13, 14, 15, 16])"
      ]
     },
     "execution_count": 48,
     "metadata": {},
     "output_type": "execute_result"
    }
   ],
   "source": [
    "v + s"
   ]
  },
  {
   "cell_type": "code",
   "execution_count": null,
   "metadata": {},
   "outputs": [],
   "source": []
  }
 ],
 "metadata": {
  "kernelspec": {
   "display_name": "Python 3",
   "language": "python",
   "name": "python3"
  },
  "language_info": {
   "codemirror_mode": {
    "name": "ipython",
    "version": 3
   },
   "file_extension": ".py",
   "mimetype": "text/x-python",
   "name": "python",
   "nbconvert_exporter": "python",
   "pygments_lexer": "ipython3",
   "version": "3.8.3"
  }
 },
 "nbformat": 4,
 "nbformat_minor": 4
}
